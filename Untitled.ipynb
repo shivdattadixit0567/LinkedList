{
 "cells": [
  {
   "cell_type": "markdown",
   "id": "79328e8c",
   "metadata": {},
   "source": [
    "// creation of linked list c and c++\n",
    "\n",
    "struct node{\n",
    "    int data;\n",
    "    struct node *next\n",
    "}\n",
    "\n",
    "int main(){\n",
    "    struct node *p;\n",
    "    p = (struct node*)malloc(sizeof(struct node))\n",
    "    \n",
    "    p->data = 10\n",
    "    p->next = NULL\n",
    "}\n"
   ]
  },
  {
   "cell_type": "code",
   "execution_count": 1,
   "id": "8694a56c",
   "metadata": {},
   "outputs": [],
   "source": [
    "class Node:\n",
    "    def __init__(self, data):\n",
    "        self.data = data\n",
    "        self.next = None\n"
   ]
  },
  {
   "cell_type": "code",
   "execution_count": 2,
   "id": "ca1d9d1e",
   "metadata": {},
   "outputs": [],
   "source": [
    "class LinkedList:\n",
    "    def __init__(self):\n",
    "        self.head=None\n",
    "        \n",
    "    def insert_at_end(self,data):\n",
    "        new_node = Node(data)\n",
    "    \n",
    "        if self.head==None:\n",
    "            self.head = new_node\n",
    "            return\n",
    "    \n",
    "        curr_node = self.head\n",
    "    \n",
    "        while curr_node.next!=None:\n",
    "            curr_node = curr_node.next\n",
    "    \n",
    "        curr_node.next = new_node\n",
    "        \n",
    "    def print(self):\n",
    "        curr_node = self.head\n",
    "        while curr_node!=None:\n",
    "            print(curr_node.data)\n",
    "            curr_node = curr_node.next"
   ]
  },
  {
   "cell_type": "code",
   "execution_count": 3,
   "id": "3c1b0dd1",
   "metadata": {},
   "outputs": [
    {
     "name": "stdout",
     "output_type": "stream",
     "text": [
      "10\n",
      "15\n"
     ]
    }
   ],
   "source": [
    "newList = LinkedList()\n",
    "newList.insert_at_end(10)\n",
    "newList.insert_at_end(15)\n",
    "newList.print()"
   ]
  },
  {
   "cell_type": "code",
   "execution_count": 134,
   "id": "c2c4c495",
   "metadata": {},
   "outputs": [],
   "source": [
    "class Node:\n",
    "    def __init__(self,data):\n",
    "        self.data = data\n",
    "        self.next = None"
   ]
  },
  {
   "cell_type": "code",
   "execution_count": 153,
   "id": "6186ad92",
   "metadata": {},
   "outputs": [],
   "source": [
    "class LinkedList: \n",
    "    def __init__(self):\n",
    "        self.head=None\n",
    "    \n",
    "    def display(self):\n",
    "        curr = self.head\n",
    "        while(curr):\n",
    "            print(curr.data)\n",
    "            curr = curr.next\n",
    "    \n",
    "    def insertAtEnding(self,data):\n",
    "        new_node = Node(data)\n",
    "        if self.head:\n",
    "            curr = self.head\n",
    "\n",
    "            while(curr.next!=None):\n",
    "                curr = curr.next\n",
    "\n",
    "            curr.next = new_node\n",
    "        else:\n",
    "            self.head=new_node\n",
    "        \n",
    "    def insertAtBegining(self,data):\n",
    "        new_node = Node(data)\n",
    "        curr_node=self.head\n",
    "        new_node.next = curr_node\n",
    "        self.head=new_node\n",
    "    \n",
    "    def sumOfElement(self):\n",
    "        curr_node = self.head\n",
    "        \n",
    "        res = 0\n",
    "        while(curr_node):\n",
    "            res = res + (curr_node.data)\n",
    "            curr_node = curr_node.next\n",
    "        \n",
    "        return res\n",
    "    \n",
    "    def maximumElement(self):\n",
    "        curr_node = self.head\n",
    "        \n",
    "        mx = 0\n",
    "        while(curr_node):\n",
    "            mx=max(mx,curr_node.data)\n",
    "            curr_node=curr_node.next\n",
    "        return mx\n",
    "    \n",
    "    def searchElement(self,data):\n",
    "        curr_node = self.head\n",
    "        \n",
    "        while(curr_node):\n",
    "            if(data==curr_node.data):\n",
    "                return curr_node\n",
    "            curr_node=curr_node.next\n",
    "            \n",
    "        return -1\n",
    "    \n",
    "    def length(self):\n",
    "        dist=0\n",
    "        curr_node=self.head\n",
    "        while(curr_node):\n",
    "            curr_node=curr_node.next\n",
    "            dist=1+dist\n",
    "        return dist\n",
    "    \n",
    "    def insertAtPosition(self,data,pos):\n",
    "        curr_node = self.head\n",
    "        length = self.length()\n",
    "        if pos==0:\n",
    "            curr_node=self.insertAtBegining(data)\n",
    "        else:\n",
    "            if pos>length:\n",
    "                pos=length\n",
    "\n",
    "            new_node=Node(data)\n",
    "            step=pos-1;\n",
    "            while step>0:\n",
    "                curr_node=curr_node.next\n",
    "                step=step-1\n",
    "            left_node=curr_node.next\n",
    "            curr_node.next=new_node\n",
    "            curr_node=curr_node.next\n",
    "            curr_node.next=left_node\n"
   ]
  },
  {
   "cell_type": "code",
   "execution_count": 154,
   "id": "8f785a1a",
   "metadata": {},
   "outputs": [],
   "source": [
    "val = LinkedList()\n",
    "val.insertAtEnding(15)"
   ]
  },
  {
   "cell_type": "code",
   "execution_count": 155,
   "id": "5a48469b",
   "metadata": {},
   "outputs": [
    {
     "name": "stdout",
     "output_type": "stream",
     "text": [
      "15\n",
      "16\n"
     ]
    }
   ],
   "source": [
    "val.insertAtEnding(16)\n",
    "val.display()"
   ]
  },
  {
   "cell_type": "code",
   "execution_count": 156,
   "id": "cfa317d9",
   "metadata": {},
   "outputs": [
    {
     "name": "stdout",
     "output_type": "stream",
     "text": [
      "8\n",
      "15\n",
      "16\n"
     ]
    }
   ],
   "source": [
    "val.insertAtBegining(8)\n",
    "val.display()"
   ]
  },
  {
   "cell_type": "code",
   "execution_count": 157,
   "id": "eccdbc18",
   "metadata": {},
   "outputs": [
    {
     "data": {
      "text/plain": [
       "39"
      ]
     },
     "execution_count": 157,
     "metadata": {},
     "output_type": "execute_result"
    }
   ],
   "source": [
    "ans = val.sumOfElement()\n",
    "ans"
   ]
  },
  {
   "cell_type": "code",
   "execution_count": 158,
   "id": "64208bb1",
   "metadata": {},
   "outputs": [
    {
     "data": {
      "text/plain": [
       "16"
      ]
     },
     "execution_count": 158,
     "metadata": {},
     "output_type": "execute_result"
    }
   ],
   "source": [
    "mx = val.maximumElement()\n",
    "mx"
   ]
  },
  {
   "cell_type": "code",
   "execution_count": 159,
   "id": "f0fe4d7e",
   "metadata": {},
   "outputs": [
    {
     "data": {
      "text/plain": [
       "15"
      ]
     },
     "execution_count": 159,
     "metadata": {},
     "output_type": "execute_result"
    }
   ],
   "source": [
    "val.searchElement(15).data\n",
    "# val.display()"
   ]
  },
  {
   "cell_type": "code",
   "execution_count": 149,
   "id": "3ef72bab",
   "metadata": {},
   "outputs": [
    {
     "ename": "AttributeError",
     "evalue": "'int' object has no attribute 'display'",
     "output_type": "error",
     "traceback": [
      "\u001b[1;31m---------------------------------------------------------------------------\u001b[0m",
      "\u001b[1;31mAttributeError\u001b[0m                            Traceback (most recent call last)",
      "Cell \u001b[1;32mIn[149], line 2\u001b[0m\n\u001b[0;32m      1\u001b[0m c \u001b[38;5;241m=\u001b[39m val\u001b[38;5;241m.\u001b[39msearchElement(\u001b[38;5;241m11\u001b[39m)\n\u001b[1;32m----> 2\u001b[0m c\u001b[38;5;241m.\u001b[39mdisplay()\n",
      "\u001b[1;31mAttributeError\u001b[0m: 'int' object has no attribute 'display'"
     ]
    }
   ],
   "source": [
    "c = val.searchElement(11)\n",
    "c.display()"
   ]
  },
  {
   "cell_type": "code",
   "execution_count": 160,
   "id": "c4d458a9",
   "metadata": {},
   "outputs": [],
   "source": [
    "val.insertAtPosition(5,2)"
   ]
  },
  {
   "cell_type": "code",
   "execution_count": 161,
   "id": "184de4ad",
   "metadata": {},
   "outputs": [
    {
     "name": "stdout",
     "output_type": "stream",
     "text": [
      "8\n",
      "15\n",
      "5\n",
      "16\n"
     ]
    }
   ],
   "source": [
    "val.display()"
   ]
  },
  {
   "cell_type": "code",
   "execution_count": 162,
   "id": "4f986a71",
   "metadata": {},
   "outputs": [
    {
     "name": "stdout",
     "output_type": "stream",
     "text": [
      "8\n",
      "5\n",
      "15\n",
      "5\n",
      "16\n"
     ]
    }
   ],
   "source": [
    "val.insertAtPosition(5,1)\n",
    "val.display()"
   ]
  },
  {
   "cell_type": "code",
   "execution_count": 163,
   "id": "f47cb359",
   "metadata": {},
   "outputs": [
    {
     "data": {
      "text/plain": [
       "5"
      ]
     },
     "execution_count": 163,
     "metadata": {},
     "output_type": "execute_result"
    }
   ],
   "source": [
    "val.length()"
   ]
  },
  {
   "cell_type": "code",
   "execution_count": 164,
   "id": "5cd6bf6f",
   "metadata": {},
   "outputs": [
    {
     "name": "stdout",
     "output_type": "stream",
     "text": [
      "8\n",
      "5\n",
      "15\n",
      "5\n",
      "16\n",
      "100\n"
     ]
    }
   ],
   "source": [
    "val.insertAtPosition(100,7)\n",
    "val.display()"
   ]
  },
  {
   "cell_type": "code",
   "execution_count": 165,
   "id": "7f9c3ed0",
   "metadata": {},
   "outputs": [
    {
     "name": "stdout",
     "output_type": "stream",
     "text": [
      "100\n",
      "8\n",
      "5\n",
      "15\n",
      "5\n",
      "16\n",
      "100\n"
     ]
    }
   ],
   "source": [
    "val.insertAtPosition(100,0)\n",
    "val.display()"
   ]
  },
  {
   "cell_type": "code",
   "execution_count": null,
   "id": "411cef14",
   "metadata": {},
   "outputs": [],
   "source": [
    "val.insertAtbegining()"
   ]
  },
  {
   "cell_type": "markdown",
   "id": "cdadb4ba",
   "metadata": {},
   "source": [
    "# Classes and Objects"
   ]
  },
  {
   "cell_type": "code",
   "execution_count": 6,
   "id": "52e7a20b",
   "metadata": {},
   "outputs": [],
   "source": [
    "class person:\n",
    "    def __init__(self,name,age,gender):\n",
    "        self.name=name\n",
    "        self.age=age\n",
    "        self.gender=gender\n",
    "\n",
    "class student(person):\n",
    "    def __init__(self,name,age,gender,qualification):\n",
    "        super().__init__(name,age,gender)\n",
    "        \n",
    "# class grade(person):\n",
    "#     def __init__(self,marks):\n",
    "#         self.name = super().name\n",
    "#         self.marks = marks\n",
    "        "
   ]
  },
  {
   "cell_type": "code",
   "execution_count": 8,
   "id": "f0d56cd6",
   "metadata": {},
   "outputs": [],
   "source": [
    "s1 = student(\"supriya\",99,\"female\",\"B.tech\")\n",
    "# g = grade(15)\n",
    "# print(s1.name,g.marks)"
   ]
  },
  {
   "cell_type": "code",
   "execution_count": 1,
   "id": "f86e6d10",
   "metadata": {},
   "outputs": [
    {
     "name": "stdout",
     "output_type": "stream",
     "text": [
      "Name of the student : shiv \n",
      "age of the student : 21 \n",
      "rank of the student : 2nd\n"
     ]
    }
   ],
   "source": [
    "# cook your dish here\n",
    "\n",
    "class person:\n",
    "    def __init__(self,name,age):\n",
    "        self.name=name\n",
    "        self.age=age\n",
    "\n",
    "class student(person):\n",
    "    def __init__(self,name,age,rank):\n",
    "        super().__init__(name,age)\n",
    "        self.rank = rank\n",
    "\n",
    "\n",
    "s1 = student(\"shiv\",21,\"2nd\")\n",
    "    \n",
    "print(\"Name of the student : {0} \\nage of the student : {1} \\nrank of the student : {2}\".format(s1.name,s1.age,s1.rank))\n",
    "    \n"
   ]
  },
  {
   "cell_type": "markdown",
   "id": "2e77248a",
   "metadata": {},
   "source": [
    "#  Iterater in class"
   ]
  },
  {
   "cell_type": "code",
   "execution_count": 9,
   "id": "7fb6a81b",
   "metadata": {},
   "outputs": [
    {
     "name": "stdout",
     "output_type": "stream",
     "text": [
      "apple\n",
      "banana\n",
      "cherry\n"
     ]
    }
   ],
   "source": [
    "mytuple = (\"apple\", \"banana\", \"cherry\")\n",
    "myit = iter(mytuple)\n",
    "\n",
    "print(next(myit))\n",
    "print(next(myit))\n",
    "print(next(myit))"
   ]
  },
  {
   "cell_type": "markdown",
   "id": "2de449b0",
   "metadata": {},
   "source": [
    "Here iter() function is used to get the iterater of mytupe and next function is used to increament the iterator"
   ]
  },
  {
   "cell_type": "code",
   "execution_count": 15,
   "id": "85a55b3e",
   "metadata": {},
   "outputs": [
    {
     "name": "stdout",
     "output_type": "stream",
     "text": [
      "apple\n",
      "banana\n",
      "cherry\n"
     ]
    }
   ],
   "source": [
    "it=iter(mytuple)\n",
    "for i in range(len(mytuple)):\n",
    "    print(next(it))"
   ]
  },
  {
   "cell_type": "code",
   "execution_count": 19,
   "id": "cda6053e",
   "metadata": {},
   "outputs": [
    {
     "name": "stdout",
     "output_type": "stream",
     "text": [
      "1\n",
      "2\n",
      "3\n",
      "4\n",
      "5\n"
     ]
    }
   ],
   "source": [
    "class number:\n",
    "    def __iter__(self):\n",
    "        self.x=1\n",
    "        return self\n",
    "    \n",
    "    def __next__(self):\n",
    "        x=self.x\n",
    "        self.x += 1\n",
    "        return x\n",
    "    \n",
    "n = number()\n",
    "\n",
    "it = iter(n)\n",
    "\n",
    "for i in range(5):\n",
    "    print(next(it))"
   ]
  },
  {
   "cell_type": "code",
   "execution_count": 41,
   "id": "fd5bac0b",
   "metadata": {},
   "outputs": [],
   "source": [
    "class person:\n",
    "    def __init__(self,name,age):\n",
    "        self.name=name\n",
    "        self.age=age\n",
    "        \n",
    "    def move(self):\n",
    "        print(\"Hello\")\n",
    "        \n",
    "class student(person):\n",
    "    def move(self):\n",
    "        print(\"Hello kutte\")\n",
    "#     pass\n",
    "    \n",
    "    def __init__(self,name,age):\n",
    "        self.name=name\n",
    "        self.age=age\n",
    "    "
   ]
  },
  {
   "cell_type": "code",
   "execution_count": 45,
   "id": "f0fd113f",
   "metadata": {},
   "outputs": [
    {
     "name": "stdout",
     "output_type": "stream",
     "text": [
      "Class person's name : shiv\n",
      "Class person's age : 20\n",
      "\n",
      "Hello\n",
      "Class Student's name : shh\n",
      "Class Student's age: 21 \n",
      "\n",
      "Hello kutte\n"
     ]
    }
   ],
   "source": [
    "p1 = person(\"shiv\",20)\n",
    "print(\"Class person's name : {0}\\nClass person's age : {1}\\n\".format(p1.name,p1.age))\n",
    "p1.move()\n",
    "\n",
    "s1 = student(\"shh\",21)\n",
    "\n",
    "print(\"Class Student's name : {0}\\nClass Student's age: {1}\".format(s1.name,s1.age),'\\n')\n",
    "s1.move()"
   ]
  },
  {
   "cell_type": "code",
   "execution_count": null,
   "id": "8e23fc0b",
   "metadata": {},
   "outputs": [],
   "source": []
  }
 ],
 "metadata": {
  "kernelspec": {
   "display_name": "Python 3 (ipykernel)",
   "language": "python",
   "name": "python3"
  },
  "language_info": {
   "codemirror_mode": {
    "name": "ipython",
    "version": 3
   },
   "file_extension": ".py",
   "mimetype": "text/x-python",
   "name": "python",
   "nbconvert_exporter": "python",
   "pygments_lexer": "ipython3",
   "version": "3.11.4"
  }
 },
 "nbformat": 4,
 "nbformat_minor": 5
}
